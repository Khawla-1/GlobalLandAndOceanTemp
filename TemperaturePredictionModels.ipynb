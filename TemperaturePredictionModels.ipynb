{
 "cells": [
  {
   "cell_type": "markdown",
   "id": "875bd6ca",
   "metadata": {},
   "source": [
    "### In this Part Iam going to work with Teamperature Data to predict the average global land and ocean temperature using over 100 years of past weather data."
   ]
  },
  {
   "cell_type": "code",
   "execution_count": 56,
   "id": "1ab458f2",
   "metadata": {},
   "outputs": [],
   "source": [
    "# Importation \n",
    "import numpy as np\n",
    "import tensorflow as tf\n",
    "from tensorflow import keras\n",
    "import pandas as pd\n",
    "import seaborn as sns\n",
    "from pylab import rcParams\n",
    "import matplotlib.pyplot as plt\n",
    "from matplotlib import rc"
   ]
  },
  {
   "cell_type": "code",
   "execution_count": 57,
   "id": "f294670d",
   "metadata": {},
   "outputs": [
    {
     "data": {
      "text/plain": [
       "Index(['dt', 'LandAverageTemperature', 'LandAverageTemperatureUncertainty',\n",
       "       'LandMaxTemperature', 'LandMaxTemperatureUncertainty',\n",
       "       'LandMinTemperature', 'LandMinTemperatureUncertainty',\n",
       "       'LandAndOceanAverageTemperature',\n",
       "       'LandAndOceanAverageTemperatureUncertainty'],\n",
       "      dtype='object')"
      ]
     },
     "execution_count": 57,
     "metadata": {},
     "output_type": "execute_result"
    }
   ],
   "source": [
    "#Read in GlobalTeamperatures Dataset\n",
    "globaltemp = pd.read_csv(\"GlobalTemperatures.csv\")\n",
    "#Print Dataframe shape\n",
    "globaltemp.shape\n",
    "globaltemp.columns"
   ]
  },
  {
   "cell_type": "code",
   "execution_count": 58,
   "id": "6392886f",
   "metadata": {},
   "outputs": [
    {
     "name": "stdout",
     "output_type": "stream",
     "text": [
      "<class 'pandas.core.frame.DataFrame'>\n",
      "RangeIndex: 3192 entries, 0 to 3191\n",
      "Data columns (total 9 columns):\n",
      " #   Column                                     Non-Null Count  Dtype  \n",
      "---  ------                                     --------------  -----  \n",
      " 0   dt                                         3192 non-null   object \n",
      " 1   LandAverageTemperature                     3180 non-null   float64\n",
      " 2   LandAverageTemperatureUncertainty          3180 non-null   float64\n",
      " 3   LandMaxTemperature                         1992 non-null   float64\n",
      " 4   LandMaxTemperatureUncertainty              1992 non-null   float64\n",
      " 5   LandMinTemperature                         1992 non-null   float64\n",
      " 6   LandMinTemperatureUncertainty              1992 non-null   float64\n",
      " 7   LandAndOceanAverageTemperature             1992 non-null   float64\n",
      " 8   LandAndOceanAverageTemperatureUncertainty  1992 non-null   float64\n",
      "dtypes: float64(8), object(1)\n",
      "memory usage: 224.6+ KB\n"
     ]
    }
   ],
   "source": [
    "#Identify Anomalies/ Missing Data\n",
    "globaltemp.info()"
   ]
  },
  {
   "cell_type": "code",
   "execution_count": 59,
   "id": "23cdc917",
   "metadata": {},
   "outputs": [
    {
     "data": {
      "text/plain": [
       "dt                                              0\n",
       "LandAverageTemperature                         12\n",
       "LandAverageTemperatureUncertainty              12\n",
       "LandMaxTemperature                           1200\n",
       "LandMaxTemperatureUncertainty                1200\n",
       "LandMinTemperature                           1200\n",
       "LandMinTemperatureUncertainty                1200\n",
       "LandAndOceanAverageTemperature               1200\n",
       "LandAndOceanAverageTemperatureUncertainty    1200\n",
       "dtype: int64"
      ]
     },
     "execution_count": 59,
     "metadata": {},
     "output_type": "execute_result"
    }
   ],
   "source": [
    "#find the total amount of missing values in each column\n",
    "globaltemp.isnull().sum()"
   ]
  },
  {
   "cell_type": "markdown",
   "id": "f6bc4000",
   "metadata": {},
   "source": [
    "# Data Preparation"
   ]
  },
  {
   "cell_type": "code",
   "execution_count": 60,
   "id": "6c58d045",
   "metadata": {},
   "outputs": [],
   "source": [
    "#Apply function to eatch column to convert from object to float\n",
    "def convertTemp(x):\n",
    "    return float(x)\n",
    "\n"
   ]
  },
  {
   "cell_type": "code",
   "execution_count": 61,
   "id": "b6fa9a72",
   "metadata": {},
   "outputs": [],
   "source": [
    "def wrangle(df):\n",
    "    \n",
    "    df = df.copy()\n",
    "    \n",
    "    #Cleaning the dataset from unused column\n",
    "    df = df.drop(columns=['LandAverageTemperatureUncertainty','LandMaxTemperatureUncertainty','LandMinTemperatureUncertainty','LandAndOceanAverageTemperatureUncertainty'], axis=1)\n",
    "    #Convert Teamperature Data\n",
    "    df['LandAverageTemperature'] = df['LandAverageTemperature'].apply(convertTemp)\n",
    "    df['LandMaxTemperature']=df ['LandMaxTemperature'].apply(convertTemp)\n",
    "    df['LandMinTemperature']=df ['LandMinTemperature'].apply(convertTemp)\n",
    "    df['LandAndOceanAverageTemperature']=df ['LandAndOceanAverageTemperature'].apply(convertTemp)\n",
    "    \n",
    "    #Convert dt Column to Datetime\n",
    "    df[\"dt\"] = pd.to_datetime(df[\"dt\"])\n",
    "    df[\"Month\"]=df[\"dt\"].dt.month\n",
    "    df[\"Year\"]=df[\"dt\"].dt.year\n",
    "    df = df.drop(\"dt\", axis=1)\n",
    "    df= df.drop(\"Month\", axis=1)\n",
    "    df=df[df.Year >= 1950]\n",
    "    \n",
    "    #St index to YearColumn \n",
    "    df = df.set_index(['Year'])\n",
    "    \n",
    "    #drop NaN values\n",
    "    df= df.dropna()\n",
    "    return df\n"
   ]
  },
  {
   "cell_type": "code",
   "execution_count": 62,
   "id": "7d3acb65",
   "metadata": {},
   "outputs": [],
   "source": [
    "#Apply wrangle Function \n",
    "globaltemp = wrangle(globaltemp)"
   ]
  },
  {
   "cell_type": "code",
   "execution_count": 63,
   "id": "0cb14c6a",
   "metadata": {},
   "outputs": [
    {
     "data": {
      "text/html": [
       "<div>\n",
       "<style scoped>\n",
       "    .dataframe tbody tr th:only-of-type {\n",
       "        vertical-align: middle;\n",
       "    }\n",
       "\n",
       "    .dataframe tbody tr th {\n",
       "        vertical-align: top;\n",
       "    }\n",
       "\n",
       "    .dataframe thead th {\n",
       "        text-align: right;\n",
       "    }\n",
       "</style>\n",
       "<table border=\"1\" class=\"dataframe\">\n",
       "  <thead>\n",
       "    <tr style=\"text-align: right;\">\n",
       "      <th></th>\n",
       "      <th>LandAverageTemperature</th>\n",
       "      <th>LandMaxTemperature</th>\n",
       "      <th>LandMinTemperature</th>\n",
       "      <th>LandAndOceanAverageTemperature</th>\n",
       "    </tr>\n",
       "    <tr>\n",
       "      <th>Year</th>\n",
       "      <th></th>\n",
       "      <th></th>\n",
       "      <th></th>\n",
       "      <th></th>\n",
       "    </tr>\n",
       "  </thead>\n",
       "  <tbody>\n",
       "    <tr>\n",
       "      <th>1950</th>\n",
       "      <td>2.008</td>\n",
       "      <td>7.611</td>\n",
       "      <td>-3.622</td>\n",
       "      <td>13.311</td>\n",
       "    </tr>\n",
       "    <tr>\n",
       "      <th>1950</th>\n",
       "      <td>2.721</td>\n",
       "      <td>8.475</td>\n",
       "      <td>-3.013</td>\n",
       "      <td>13.554</td>\n",
       "    </tr>\n",
       "    <tr>\n",
       "      <th>1950</th>\n",
       "      <td>5.247</td>\n",
       "      <td>11.173</td>\n",
       "      <td>-0.693</td>\n",
       "      <td>14.296</td>\n",
       "    </tr>\n",
       "    <tr>\n",
       "      <th>1950</th>\n",
       "      <td>8.123</td>\n",
       "      <td>14.157</td>\n",
       "      <td>2.043</td>\n",
       "      <td>15.093</td>\n",
       "    </tr>\n",
       "    <tr>\n",
       "      <th>1950</th>\n",
       "      <td>11.297</td>\n",
       "      <td>17.252</td>\n",
       "      <td>5.421</td>\n",
       "      <td>16.033</td>\n",
       "    </tr>\n",
       "  </tbody>\n",
       "</table>\n",
       "</div>"
      ],
      "text/plain": [
       "      LandAverageTemperature  LandMaxTemperature  LandMinTemperature  \\\n",
       "Year                                                                   \n",
       "1950                   2.008               7.611              -3.622   \n",
       "1950                   2.721               8.475              -3.013   \n",
       "1950                   5.247              11.173              -0.693   \n",
       "1950                   8.123              14.157               2.043   \n",
       "1950                  11.297              17.252               5.421   \n",
       "\n",
       "      LandAndOceanAverageTemperature  \n",
       "Year                                  \n",
       "1950                          13.311  \n",
       "1950                          13.554  \n",
       "1950                          14.296  \n",
       "1950                          15.093  \n",
       "1950                          16.033  "
      ]
     },
     "execution_count": 63,
     "metadata": {},
     "output_type": "execute_result"
    }
   ],
   "source": [
    "#Print The 5th first Columns to show Modification\n",
    "globaltemp.head()"
   ]
  },
  {
   "cell_type": "code",
   "execution_count": 64,
   "id": "3e5f19fd",
   "metadata": {},
   "outputs": [
    {
     "data": {
      "text/plain": [
       "(792, 4)"
      ]
     },
     "execution_count": 64,
     "metadata": {},
     "output_type": "execute_result"
    }
   ],
   "source": [
    "#print the shape\n",
    "globaltemp.shape"
   ]
  },
  {
   "cell_type": "code",
   "execution_count": 65,
   "id": "a9214c08",
   "metadata": {},
   "outputs": [
    {
     "data": {
      "text/plain": [
       "LandAverageTemperature            0\n",
       "LandMaxTemperature                0\n",
       "LandMinTemperature                0\n",
       "LandAndOceanAverageTemperature    0\n",
       "dtype: int64"
      ]
     },
     "execution_count": 65,
     "metadata": {},
     "output_type": "execute_result"
    }
   ],
   "source": [
    "#Show if still have some null values \n",
    "globaltemp.isnull().sum()"
   ]
  },
  {
   "cell_type": "markdown",
   "id": "b9c64172",
   "metadata": {},
   "source": [
    "# Quick Correlation Visualization"
   ]
  },
  {
   "cell_type": "markdown",
   "id": "6286eecd",
   "metadata": {},
   "source": [
    "For understanding of how related each column is to each other"
   ]
  },
  {
   "cell_type": "code",
   "execution_count": 66,
   "id": "688945eb",
   "metadata": {},
   "outputs": [
    {
     "data": {
      "image/png": "[encoded data removed]",
      "text/plain": [
       "<Figure size 640x480 with 2 Axes>"
      ]
     },
     "metadata": {},
     "output_type": "display_data"
    }
   ],
   "source": [
    "import seaborn as sns \n",
    "corrMatrix = globaltemp.corr()\n",
    "sns.heatmap(corrMatrix, annot=True)\n",
    "plt.show()"
   ]
  },
  {
   "cell_type": "markdown",
   "id": "70ad5164",
   "metadata": {},
   "source": [
    "The columns we chose to keep moving forward are HIGHLY correlated to one another. So we should have pretty strong & positive predictions just from glancing at this plot."
   ]
  },
  {
   "cell_type": "markdown",
   "id": "284159a8",
   "metadata": {},
   "source": [
    "## Separating The Target data From The Features"
   ]
  },
  {
   "cell_type": "code",
   "execution_count": 67,
   "id": "48eefd61",
   "metadata": {},
   "outputs": [],
   "source": [
    "#Target Vector\n",
    "Y = globaltemp['LandAndOceanAverageTemperature']\n",
    "\n",
    "#Feature Matrix\n",
    "X = globaltemp[['LandAverageTemperature','LandMaxTemperature','LandMinTemperature']]"
   ]
  },
  {
   "cell_type": "markdown",
   "id": "e73b3329",
   "metadata": {},
   "source": [
    "## Train Test Split"
   ]
  },
  {
   "cell_type": "code",
   "execution_count": 68,
   "id": "518d19ff",
   "metadata": {},
   "outputs": [
    {
     "name": "stdout",
     "output_type": "stream",
     "text": [
      "(594, 3)\n",
      "(198, 3)\n",
      "(594,)\n",
      "(198,)\n"
     ]
    }
   ],
   "source": [
    "# train Test The X fetures & Y target\n",
    "from sklearn.model_selection import train_test_split\n",
    "\n",
    "X_train, X_val,Y_train, Y_val = train_test_split(X,Y, test_size=0.25, random_state=42)\n",
    "\n",
    "#visualization the split \n",
    "print(X_train.shape)\n",
    "print(X_val.shape)\n",
    "print(Y_train.shape)\n",
    "print(Y_val.shape)"
   ]
  },
  {
   "cell_type": "markdown",
   "id": "02683ff7",
   "metadata": {},
   "source": [
    "### Establish Baseline Mean Absolute Error"
   ]
  },
  {
   "cell_type": "markdown",
   "id": "10e6a183",
   "metadata": {},
   "source": [
    "Before make an evaluate predictions, I need to establish a baseline, a sensible measure that I hope to beat with The model. If the model cannot improve upon the baseline, then it will be a failure and I should try a different model or admit that machine learning is not right for My problem."
   ]
  },
  {
   "cell_type": "code",
   "execution_count": 69,
   "id": "dda293a4",
   "metadata": {},
   "outputs": [
    {
     "name": "stdout",
     "output_type": "stream",
     "text": [
      "Baseline MAE: 1.09719\n"
     ]
    }
   ],
   "source": [
    "from sklearn.metrics import mean_absolute_error\n",
    "y_pred =[Y_train.mean()]* len(Y_train)\n",
    "print('Baseline MAE:', round(mean_absolute_error(Y_train, y_pred),5))"
   ]
  },
  {
   "cell_type": "markdown",
   "id": "8c651435",
   "metadata": {},
   "source": [
    " If I can’t beat an average error of 2 degrees, then I need to rethink my approach!."
   ]
  },
  {
   "cell_type": "markdown",
   "id": "e5b6d8ad",
   "metadata": {},
   "source": [
    "# Train Model "
   ]
  },
  {
   "cell_type": "markdown",
   "id": "4efa4587",
   "metadata": {},
   "source": [
    "After all the work of data preparation, creating and training the model is pretty simple using scikit-learn. For this problem, I could try a multitude of models, but in this situation, I am going to use two different models; a Linear Regression Model and a Random Forest Regressor Model."
   ]
  },
  {
   "cell_type": "markdown",
   "id": "59fcecf9",
   "metadata": {},
   "source": [
    "### Linear Regression Model"
   ]
  },
  {
   "cell_type": "markdown",
   "id": "00c8d945",
   "metadata": {},
   "source": [
    "Linear regression is a statistical approach that models the relationship between input features and output. My goal here is to predict the value of the output based on the input features"
   ]
  },
  {
   "cell_type": "code",
   "execution_count": 70,
   "id": "9d35e382",
   "metadata": {},
   "outputs": [
    {
     "data": {
      "text/html": [
       "<style>#sk-container-id-3 {color: black;background-color: white;}#sk-container-id-3 pre{padding: 0;}#sk-container-id-3 div.sk-toggleable {background-color: white;}#sk-container-id-3 label.sk-toggleable__label {cursor: pointer;display: block;width: 100%;margin-bottom: 0;padding: 0.3em;box-sizing: border-box;text-align: center;}#sk-container-id-3 label.sk-toggleable__label-arrow:before {content: \"▸\";float: left;margin-right: 0.25em;color: #696969;}#sk-container-id-3 label.sk-toggleable__label-arrow:hover:before {color: black;}#sk-container-id-3 div.sk-estimator:hover label.sk-toggleable__label-arrow:before {color: black;}#sk-container-id-3 div.sk-toggleable__content {max-height: 0;max-width: 0;overflow: hidden;text-align: left;background-color: #f0f8ff;}#sk-container-id-3 div.sk-toggleable__content pre {margin: 0.2em;color: black;border-radius: 0.25em;background-color: #f0f8ff;}#sk-container-id-3 input.sk-toggleable__control:checked~div.sk-toggleable__content {max-height: 200px;max-width: 100%;overflow: auto;}#sk-container-id-3 input.sk-toggleable__control:checked~label.sk-toggleable__label-arrow:before {content: \"▾\";}#sk-container-id-3 div.sk-estimator input.sk-toggleable__control:checked~label.sk-toggleable__label {background-color: #d4ebff;}#sk-container-id-3 div.sk-label input.sk-toggleable__control:checked~label.sk-toggleable__label {background-color: #d4ebff;}#sk-container-id-3 input.sk-hidden--visually {border: 0;clip: rect(1px 1px 1px 1px);clip: rect(1px, 1px, 1px, 1px);height: 1px;margin: -1px;overflow: hidden;padding: 0;position: absolute;width: 1px;}#sk-container-id-3 div.sk-estimator {font-family: monospace;background-color: #f0f8ff;border: 1px dotted black;border-radius: 0.25em;box-sizing: border-box;margin-bottom: 0.5em;}#sk-container-id-3 div.sk-estimator:hover {background-color: #d4ebff;}#sk-container-id-3 div.sk-parallel-item::after {content: \"\";width: 100%;border-bottom: 1px solid gray;flex-grow: 1;}#sk-container-id-3 div.sk-label:hover label.sk-toggleable__label {background-color: #d4ebff;}#sk-container-id-3 div.sk-serial::before {content: \"\";position: absolute;border-left: 1px solid gray;box-sizing: border-box;top: 0;bottom: 0;left: 50%;z-index: 0;}#sk-container-id-3 div.sk-serial {display: flex;flex-direction: column;align-items: center;background-color: white;padding-right: 0.2em;padding-left: 0.2em;position: relative;}#sk-container-id-3 div.sk-item {position: relative;z-index: 1;}#sk-container-id-3 div.sk-parallel {display: flex;align-items: stretch;justify-content: center;background-color: white;position: relative;}#sk-container-id-3 div.sk-item::before, #sk-container-id-3 div.sk-parallel-item::before {content: \"\";position: absolute;border-left: 1px solid gray;box-sizing: border-box;top: 0;bottom: 0;left: 50%;z-index: -1;}#sk-container-id-3 div.sk-parallel-item {display: flex;flex-direction: column;z-index: 1;position: relative;background-color: white;}#sk-container-id-3 div.sk-parallel-item:first-child::after {align-self: flex-end;width: 50%;}#sk-container-id-3 div.sk-parallel-item:last-child::after {align-self: flex-start;width: 50%;}#sk-container-id-3 div.sk-parallel-item:only-child::after {width: 0;}#sk-container-id-3 div.sk-dashed-wrapped {border: 1px dashed gray;margin: 0 0.4em 0.5em 0.4em;box-sizing: border-box;padding-bottom: 0.4em;background-color: white;}#sk-container-id-3 div.sk-label label {font-family: monospace;font-weight: bold;display: inline-block;line-height: 1.2em;}#sk-container-id-3 div.sk-label-container {text-align: center;}#sk-container-id-3 div.sk-container {/* jupyter's `normalize.less` sets `[hidden] { display: none; }` but bootstrap.min.css set `[hidden] { display: none !important; }` so we also need the `!important` here to be able to override the default hidden behavior on the sphinx rendered scikit-learn.org. See: https://github.com/scikit-learn/scikit-learn/issues/21755 */display: inline-block !important;position: relative;}#sk-container-id-3 div.sk-text-repr-fallback {display: none;}</style><div id=\"sk-container-id-3\" class=\"sk-top-container\"><div class=\"sk-text-repr-fallback\"><pre>Pipeline(steps=[(&#x27;standardscaler&#x27;, StandardScaler()),\n",
       "                (&#x27;linearregression&#x27;, LinearRegression())])</pre><b>In a Jupyter environment, please rerun this cell to show the HTML representation or trust the notebook. <br />On GitHub, the HTML representation is unable to render, please try loading this page with nbviewer.org.</b></div><div class=\"sk-container\" hidden><div class=\"sk-item sk-dashed-wrapped\"><div class=\"sk-label-container\"><div class=\"sk-label sk-toggleable\"><input class=\"sk-toggleable__control sk-hidden--visually\" id=\"sk-estimator-id-8\" type=\"checkbox\" ><label for=\"sk-estimator-id-8\" class=\"sk-toggleable__label sk-toggleable__label-arrow\">Pipeline</label><div class=\"sk-toggleable__content\"><pre>Pipeline(steps=[(&#x27;standardscaler&#x27;, StandardScaler()),\n",
       "                (&#x27;linearregression&#x27;, LinearRegression())])</pre></div></div></div><div class=\"sk-serial\"><div class=\"sk-item\"><div class=\"sk-estimator sk-toggleable\"><input class=\"sk-toggleable__control sk-hidden--visually\" id=\"sk-estimator-id-9\" type=\"checkbox\" ><label for=\"sk-estimator-id-9\" class=\"sk-toggleable__label sk-toggleable__label-arrow\">StandardScaler</label><div class=\"sk-toggleable__content\"><pre>StandardScaler()</pre></div></div></div><div class=\"sk-item\"><div class=\"sk-estimator sk-toggleable\"><input class=\"sk-toggleable__control sk-hidden--visually\" id=\"sk-estimator-id-10\" type=\"checkbox\" ><label for=\"sk-estimator-id-10\" class=\"sk-toggleable__label sk-toggleable__label-arrow\">LinearRegression</label><div class=\"sk-toggleable__content\"><pre>LinearRegression()</pre></div></div></div></div></div></div></div>"
      ],
      "text/plain": [
       "Pipeline(steps=[('standardscaler', StandardScaler()),\n",
       "                ('linearregression', LinearRegression())])"
      ]
     },
     "execution_count": 70,
     "metadata": {},
     "output_type": "execute_result"
    }
   ],
   "source": [
    "from sklearn.linear_model import LinearRegression\n",
    "from sklearn.pipeline import make_pipeline\n",
    "from sklearn.preprocessing import StandardScaler\n",
    "\n",
    "lm = make_pipeline( StandardScaler(), LinearRegression(),)\n",
    "\n",
    "lm.fit(X_train, Y_train)"
   ]
  },
  {
   "cell_type": "markdown",
   "id": "3ec3ba49",
   "metadata": {},
   "source": [
    "### Random Forest Regressor Model"
   ]
  },
  {
   "cell_type": "markdown",
   "id": "31fdabfb",
   "metadata": {},
   "source": [
    "The basic idea behind bagging is to combine multiple decision trees in determining the final output rather than relying on individual decision trees."
   ]
  },
  {
   "cell_type": "code",
   "execution_count": 71,
   "id": "6f1b18d3",
   "metadata": {},
   "outputs": [
    {
     "data": {
      "text/html": [
       "<style>#sk-container-id-4 {color: black;background-color: white;}#sk-container-id-4 pre{padding: 0;}#sk-container-id-4 div.sk-toggleable {background-color: white;}#sk-container-id-4 label.sk-toggleable__label {cursor: pointer;display: block;width: 100%;margin-bottom: 0;padding: 0.3em;box-sizing: border-box;text-align: center;}#sk-container-id-4 label.sk-toggleable__label-arrow:before {content: \"▸\";float: left;margin-right: 0.25em;color: #696969;}#sk-container-id-4 label.sk-toggleable__label-arrow:hover:before {color: black;}#sk-container-id-4 div.sk-estimator:hover label.sk-toggleable__label-arrow:before {color: black;}#sk-container-id-4 div.sk-toggleable__content {max-height: 0;max-width: 0;overflow: hidden;text-align: left;background-color: #f0f8ff;}#sk-container-id-4 div.sk-toggleable__content pre {margin: 0.2em;color: black;border-radius: 0.25em;background-color: #f0f8ff;}#sk-container-id-4 input.sk-toggleable__control:checked~div.sk-toggleable__content {max-height: 200px;max-width: 100%;overflow: auto;}#sk-container-id-4 input.sk-toggleable__control:checked~label.sk-toggleable__label-arrow:before {content: \"▾\";}#sk-container-id-4 div.sk-estimator input.sk-toggleable__control:checked~label.sk-toggleable__label {background-color: #d4ebff;}#sk-container-id-4 div.sk-label input.sk-toggleable__control:checked~label.sk-toggleable__label {background-color: #d4ebff;}#sk-container-id-4 input.sk-hidden--visually {border: 0;clip: rect(1px 1px 1px 1px);clip: rect(1px, 1px, 1px, 1px);height: 1px;margin: -1px;overflow: hidden;padding: 0;position: absolute;width: 1px;}#sk-container-id-4 div.sk-estimator {font-family: monospace;background-color: #f0f8ff;border: 1px dotted black;border-radius: 0.25em;box-sizing: border-box;margin-bottom: 0.5em;}#sk-container-id-4 div.sk-estimator:hover {background-color: #d4ebff;}#sk-container-id-4 div.sk-parallel-item::after {content: \"\";width: 100%;border-bottom: 1px solid gray;flex-grow: 1;}#sk-container-id-4 div.sk-label:hover label.sk-toggleable__label {background-color: #d4ebff;}#sk-container-id-4 div.sk-serial::before {content: \"\";position: absolute;border-left: 1px solid gray;box-sizing: border-box;top: 0;bottom: 0;left: 50%;z-index: 0;}#sk-container-id-4 div.sk-serial {display: flex;flex-direction: column;align-items: center;background-color: white;padding-right: 0.2em;padding-left: 0.2em;position: relative;}#sk-container-id-4 div.sk-item {position: relative;z-index: 1;}#sk-container-id-4 div.sk-parallel {display: flex;align-items: stretch;justify-content: center;background-color: white;position: relative;}#sk-container-id-4 div.sk-item::before, #sk-container-id-4 div.sk-parallel-item::before {content: \"\";position: absolute;border-left: 1px solid gray;box-sizing: border-box;top: 0;bottom: 0;left: 50%;z-index: -1;}#sk-container-id-4 div.sk-parallel-item {display: flex;flex-direction: column;z-index: 1;position: relative;background-color: white;}#sk-container-id-4 div.sk-parallel-item:first-child::after {align-self: flex-end;width: 50%;}#sk-container-id-4 div.sk-parallel-item:last-child::after {align-self: flex-start;width: 50%;}#sk-container-id-4 div.sk-parallel-item:only-child::after {width: 0;}#sk-container-id-4 div.sk-dashed-wrapped {border: 1px dashed gray;margin: 0 0.4em 0.5em 0.4em;box-sizing: border-box;padding-bottom: 0.4em;background-color: white;}#sk-container-id-4 div.sk-label label {font-family: monospace;font-weight: bold;display: inline-block;line-height: 1.2em;}#sk-container-id-4 div.sk-label-container {text-align: center;}#sk-container-id-4 div.sk-container {/* jupyter's `normalize.less` sets `[hidden] { display: none; }` but bootstrap.min.css set `[hidden] { display: none !important; }` so we also need the `!important` here to be able to override the default hidden behavior on the sphinx rendered scikit-learn.org. See: https://github.com/scikit-learn/scikit-learn/issues/21755 */display: inline-block !important;position: relative;}#sk-container-id-4 div.sk-text-repr-fallback {display: none;}</style><div id=\"sk-container-id-4\" class=\"sk-top-container\"><div class=\"sk-text-repr-fallback\"><pre>Pipeline(steps=[(&#x27;selectkbest&#x27;, SelectKBest(k=&#x27;all&#x27;)),\n",
       "                (&#x27;standardscaler&#x27;, StandardScaler()),\n",
       "                (&#x27;randomforestregressor&#x27;,\n",
       "                 RandomForestRegressor(max_depth=50, n_jobs=-1,\n",
       "                                       random_state=77))])</pre><b>In a Jupyter environment, please rerun this cell to show the HTML representation or trust the notebook. <br />On GitHub, the HTML representation is unable to render, please try loading this page with nbviewer.org.</b></div><div class=\"sk-container\" hidden><div class=\"sk-item sk-dashed-wrapped\"><div class=\"sk-label-container\"><div class=\"sk-label sk-toggleable\"><input class=\"sk-toggleable__control sk-hidden--visually\" id=\"sk-estimator-id-11\" type=\"checkbox\" ><label for=\"sk-estimator-id-11\" class=\"sk-toggleable__label sk-toggleable__label-arrow\">Pipeline</label><div class=\"sk-toggleable__content\"><pre>Pipeline(steps=[(&#x27;selectkbest&#x27;, SelectKBest(k=&#x27;all&#x27;)),\n",
       "                (&#x27;standardscaler&#x27;, StandardScaler()),\n",
       "                (&#x27;randomforestregressor&#x27;,\n",
       "                 RandomForestRegressor(max_depth=50, n_jobs=-1,\n",
       "                                       random_state=77))])</pre></div></div></div><div class=\"sk-serial\"><div class=\"sk-item\"><div class=\"sk-estimator sk-toggleable\"><input class=\"sk-toggleable__control sk-hidden--visually\" id=\"sk-estimator-id-12\" type=\"checkbox\" ><label for=\"sk-estimator-id-12\" class=\"sk-toggleable__label sk-toggleable__label-arrow\">SelectKBest</label><div class=\"sk-toggleable__content\"><pre>SelectKBest(k=&#x27;all&#x27;)</pre></div></div></div><div class=\"sk-item\"><div class=\"sk-estimator sk-toggleable\"><input class=\"sk-toggleable__control sk-hidden--visually\" id=\"sk-estimator-id-13\" type=\"checkbox\" ><label for=\"sk-estimator-id-13\" class=\"sk-toggleable__label sk-toggleable__label-arrow\">StandardScaler</label><div class=\"sk-toggleable__content\"><pre>StandardScaler()</pre></div></div></div><div class=\"sk-item\"><div class=\"sk-estimator sk-toggleable\"><input class=\"sk-toggleable__control sk-hidden--visually\" id=\"sk-estimator-id-14\" type=\"checkbox\" ><label for=\"sk-estimator-id-14\" class=\"sk-toggleable__label sk-toggleable__label-arrow\">RandomForestRegressor</label><div class=\"sk-toggleable__content\"><pre>RandomForestRegressor(max_depth=50, n_jobs=-1, random_state=77)</pre></div></div></div></div></div></div></div>"
      ],
      "text/plain": [
       "Pipeline(steps=[('selectkbest', SelectKBest(k='all')),\n",
       "                ('standardscaler', StandardScaler()),\n",
       "                ('randomforestregressor',\n",
       "                 RandomForestRegressor(max_depth=50, n_jobs=-1,\n",
       "                                       random_state=77))])"
      ]
     },
     "execution_count": 71,
     "metadata": {},
     "output_type": "execute_result"
    }
   ],
   "source": [
    "from sklearn.feature_selection import SelectKBest\n",
    "from sklearn.ensemble import RandomForestRegressor\n",
    "\n",
    "forestModel = make_pipeline(SelectKBest(k=\"all\"), StandardScaler(), RandomForestRegressor(n_estimators=100, max_depth=50, random_state=77, n_jobs=-1))\n",
    "\n",
    "forestModel.fit(X_train, Y_train)"
   ]
  },
  {
   "cell_type": "markdown",
   "id": "bc28ceb5",
   "metadata": {},
   "source": [
    "## Make Predictions on the Testset"
   ]
  },
  {
   "cell_type": "markdown",
   "id": "79edadbc",
   "metadata": {},
   "source": [
    "Now the model has been trained to learn the relationships between the features and the targets. "
   ]
  },
  {
   "cell_type": "code",
   "execution_count": 72,
   "id": "47cdf607",
   "metadata": {},
   "outputs": [
    {
     "name": "stdout",
     "output_type": "stream",
     "text": [
      "Linear Regression Training MAE : 0.12048\n",
      "Linear Regression Test MAE : 0.11795\n"
     ]
    }
   ],
   "source": [
    "# Linear Regression MAE\n",
    "print('Linear Regression Training MAE :', round(mean_absolute_error(Y_train, lm.predict(X_train)),5))\n",
    "print('Linear Regression Test MAE :', round(mean_absolute_error(Y_val, lm.predict(X_val)),5))\n"
   ]
  },
  {
   "cell_type": "code",
   "execution_count": 73,
   "id": "5956ea4b",
   "metadata": {},
   "outputs": [
    {
     "name": "stdout",
     "output_type": "stream",
     "text": [
      "random Forest Regressor Training MAE : 0.036279326599326464\n",
      "Linear forest Regressior Test MAE : 0.036279326599326575\n"
     ]
    }
   ],
   "source": [
    "# Random Forest Regressor MAE\n",
    "print('random Forest Regressor Training MAE :',mean_absolute_error(Y_train, forestModel.predict(X_train)))\n",
    "print('Linear forest Regressior Test MAE :', mean_absolute_error(Y_train, forestModel.predict(X_train)))\n"
   ]
  },
  {
   "cell_type": "markdown",
   "id": "ea0d14e7",
   "metadata": {},
   "source": [
    "###### The average temperature prediction estimate is off by 0.12 degrees in the Linear Regression MAE and 0.036 for the Random Forest MAE. That is almost a 1-degree average improvement over the baseline of 1.09 degrees."
   ]
  },
  {
   "cell_type": "markdown",
   "id": "ced5b690",
   "metadata": {},
   "source": [
    "## Determine Performance Metrics"
   ]
  },
  {
   "cell_type": "markdown",
   "id": "66c30fbd",
   "metadata": {},
   "source": [
    "### Linear Regression Test/Train Accuracy:"
   ]
  },
  {
   "cell_type": "code",
   "execution_count": 74,
   "id": "64c44efd",
   "metadata": {},
   "outputs": [
    {
     "name": "stdout",
     "output_type": "stream",
     "text": [
      "Linear ragression Model Prediction Accuracy: 99.24 %.\n"
     ]
    }
   ],
   "source": [
    "y_pred = lm.predict(X_val)\n",
    "errors = abs(y_pred - Y_val)\n",
    "#Calculate mean absolute precentage error (MAPE)\n",
    "mape = 100* (errors / Y_train)\n",
    "\n",
    "#Calculate and Display Accuracy \n",
    "accuracy = 100 - np.mean(mape)\n",
    "print('Linear ragression Model Prediction Accuracy:', round(accuracy, 2),'%.')"
   ]
  },
  {
   "cell_type": "markdown",
   "id": "9c713617",
   "metadata": {},
   "source": [
    "### Random Forest Regressor Train/Test Accuracy:"
   ]
  },
  {
   "cell_type": "code",
   "execution_count": 75,
   "id": "7867da21",
   "metadata": {},
   "outputs": [
    {
     "name": "stdout",
     "output_type": "stream",
     "text": [
      "Forest ragressor Model Prediction Accuracy: 99.24 %.\n"
     ]
    }
   ],
   "source": [
    "Errors = abs(y_pred - Y_val)\n",
    "fmape = 100*(Errors / Y_train)\n",
    "faccuracy = 100 - np.mean(fmape)\n",
    "print('Forest ragressor Model Prediction Accuracy:', round(faccuracy, 2),'%.')"
   ]
  },
  {
   "cell_type": "markdown",
   "id": "3aaf3e54",
   "metadata": {},
   "source": [
    "#### Let’s see if we have any gains in our prediction accuracy score and MAE:"
   ]
  },
  {
   "cell_type": "code",
   "execution_count": 77,
   "id": "60d9008c",
   "metadata": {},
   "outputs": [
    {
     "data": {
      "text/html": [
       "<style>#sk-container-id-5 {color: black;background-color: white;}#sk-container-id-5 pre{padding: 0;}#sk-container-id-5 div.sk-toggleable {background-color: white;}#sk-container-id-5 label.sk-toggleable__label {cursor: pointer;display: block;width: 100%;margin-bottom: 0;padding: 0.3em;box-sizing: border-box;text-align: center;}#sk-container-id-5 label.sk-toggleable__label-arrow:before {content: \"▸\";float: left;margin-right: 0.25em;color: #696969;}#sk-container-id-5 label.sk-toggleable__label-arrow:hover:before {color: black;}#sk-container-id-5 div.sk-estimator:hover label.sk-toggleable__label-arrow:before {color: black;}#sk-container-id-5 div.sk-toggleable__content {max-height: 0;max-width: 0;overflow: hidden;text-align: left;background-color: #f0f8ff;}#sk-container-id-5 div.sk-toggleable__content pre {margin: 0.2em;color: black;border-radius: 0.25em;background-color: #f0f8ff;}#sk-container-id-5 input.sk-toggleable__control:checked~div.sk-toggleable__content {max-height: 200px;max-width: 100%;overflow: auto;}#sk-container-id-5 input.sk-toggleable__control:checked~label.sk-toggleable__label-arrow:before {content: \"▾\";}#sk-container-id-5 div.sk-estimator input.sk-toggleable__control:checked~label.sk-toggleable__label {background-color: #d4ebff;}#sk-container-id-5 div.sk-label input.sk-toggleable__control:checked~label.sk-toggleable__label {background-color: #d4ebff;}#sk-container-id-5 input.sk-hidden--visually {border: 0;clip: rect(1px 1px 1px 1px);clip: rect(1px, 1px, 1px, 1px);height: 1px;margin: -1px;overflow: hidden;padding: 0;position: absolute;width: 1px;}#sk-container-id-5 div.sk-estimator {font-family: monospace;background-color: #f0f8ff;border: 1px dotted black;border-radius: 0.25em;box-sizing: border-box;margin-bottom: 0.5em;}#sk-container-id-5 div.sk-estimator:hover {background-color: #d4ebff;}#sk-container-id-5 div.sk-parallel-item::after {content: \"\";width: 100%;border-bottom: 1px solid gray;flex-grow: 1;}#sk-container-id-5 div.sk-label:hover label.sk-toggleable__label {background-color: #d4ebff;}#sk-container-id-5 div.sk-serial::before {content: \"\";position: absolute;border-left: 1px solid gray;box-sizing: border-box;top: 0;bottom: 0;left: 50%;z-index: 0;}#sk-container-id-5 div.sk-serial {display: flex;flex-direction: column;align-items: center;background-color: white;padding-right: 0.2em;padding-left: 0.2em;position: relative;}#sk-container-id-5 div.sk-item {position: relative;z-index: 1;}#sk-container-id-5 div.sk-parallel {display: flex;align-items: stretch;justify-content: center;background-color: white;position: relative;}#sk-container-id-5 div.sk-item::before, #sk-container-id-5 div.sk-parallel-item::before {content: \"\";position: absolute;border-left: 1px solid gray;box-sizing: border-box;top: 0;bottom: 0;left: 50%;z-index: -1;}#sk-container-id-5 div.sk-parallel-item {display: flex;flex-direction: column;z-index: 1;position: relative;background-color: white;}#sk-container-id-5 div.sk-parallel-item:first-child::after {align-self: flex-end;width: 50%;}#sk-container-id-5 div.sk-parallel-item:last-child::after {align-self: flex-start;width: 50%;}#sk-container-id-5 div.sk-parallel-item:only-child::after {width: 0;}#sk-container-id-5 div.sk-dashed-wrapped {border: 1px dashed gray;margin: 0 0.4em 0.5em 0.4em;box-sizing: border-box;padding-bottom: 0.4em;background-color: white;}#sk-container-id-5 div.sk-label label {font-family: monospace;font-weight: bold;display: inline-block;line-height: 1.2em;}#sk-container-id-5 div.sk-label-container {text-align: center;}#sk-container-id-5 div.sk-container {/* jupyter's `normalize.less` sets `[hidden] { display: none; }` but bootstrap.min.css set `[hidden] { display: none !important; }` so we also need the `!important` here to be able to override the default hidden behavior on the sphinx rendered scikit-learn.org. See: https://github.com/scikit-learn/scikit-learn/issues/21755 */display: inline-block !important;position: relative;}#sk-container-id-5 div.sk-text-repr-fallback {display: none;}</style><div id=\"sk-container-id-5\" class=\"sk-top-container\"><div class=\"sk-text-repr-fallback\"><pre>RandomizedSearchCV(cv=10,\n",
       "                   estimator=Pipeline(steps=[(&#x27;selectkbest&#x27;,\n",
       "                                              SelectKBest(k=&#x27;all&#x27;)),\n",
       "                                             (&#x27;standardscaler&#x27;,\n",
       "                                              StandardScaler()),\n",
       "                                             (&#x27;randomforestregressor&#x27;,\n",
       "                                              RandomForestRegressor(max_depth=50,\n",
       "                                                                    n_jobs=-1,\n",
       "                                                                    random_state=77))]),\n",
       "                   n_iter=5, n_jobs=-1,\n",
       "                   param_distributions={&#x27;selectkbest__k&#x27;: range(0, 5)})</pre><b>In a Jupyter environment, please rerun this cell to show the HTML representation or trust the notebook. <br />On GitHub, the HTML representation is unable to render, please try loading this page with nbviewer.org.</b></div><div class=\"sk-container\" hidden><div class=\"sk-item sk-dashed-wrapped\"><div class=\"sk-label-container\"><div class=\"sk-label sk-toggleable\"><input class=\"sk-toggleable__control sk-hidden--visually\" id=\"sk-estimator-id-15\" type=\"checkbox\" ><label for=\"sk-estimator-id-15\" class=\"sk-toggleable__label sk-toggleable__label-arrow\">RandomizedSearchCV</label><div class=\"sk-toggleable__content\"><pre>RandomizedSearchCV(cv=10,\n",
       "                   estimator=Pipeline(steps=[(&#x27;selectkbest&#x27;,\n",
       "                                              SelectKBest(k=&#x27;all&#x27;)),\n",
       "                                             (&#x27;standardscaler&#x27;,\n",
       "                                              StandardScaler()),\n",
       "                                             (&#x27;randomforestregressor&#x27;,\n",
       "                                              RandomForestRegressor(max_depth=50,\n",
       "                                                                    n_jobs=-1,\n",
       "                                                                    random_state=77))]),\n",
       "                   n_iter=5, n_jobs=-1,\n",
       "                   param_distributions={&#x27;selectkbest__k&#x27;: range(0, 5)})</pre></div></div></div><div class=\"sk-parallel\"><div class=\"sk-parallel-item\"><div class=\"sk-item\"><div class=\"sk-label-container\"><div class=\"sk-label sk-toggleable\"><input class=\"sk-toggleable__control sk-hidden--visually\" id=\"sk-estimator-id-16\" type=\"checkbox\" ><label for=\"sk-estimator-id-16\" class=\"sk-toggleable__label sk-toggleable__label-arrow\">estimator: Pipeline</label><div class=\"sk-toggleable__content\"><pre>Pipeline(steps=[(&#x27;selectkbest&#x27;, SelectKBest(k=&#x27;all&#x27;)),\n",
       "                (&#x27;standardscaler&#x27;, StandardScaler()),\n",
       "                (&#x27;randomforestregressor&#x27;,\n",
       "                 RandomForestRegressor(max_depth=50, n_jobs=-1,\n",
       "                                       random_state=77))])</pre></div></div></div><div class=\"sk-serial\"><div class=\"sk-item\"><div class=\"sk-serial\"><div class=\"sk-item\"><div class=\"sk-estimator sk-toggleable\"><input class=\"sk-toggleable__control sk-hidden--visually\" id=\"sk-estimator-id-17\" type=\"checkbox\" ><label for=\"sk-estimator-id-17\" class=\"sk-toggleable__label sk-toggleable__label-arrow\">SelectKBest</label><div class=\"sk-toggleable__content\"><pre>SelectKBest(k=&#x27;all&#x27;)</pre></div></div></div><div class=\"sk-item\"><div class=\"sk-estimator sk-toggleable\"><input class=\"sk-toggleable__control sk-hidden--visually\" id=\"sk-estimator-id-18\" type=\"checkbox\" ><label for=\"sk-estimator-id-18\" class=\"sk-toggleable__label sk-toggleable__label-arrow\">StandardScaler</label><div class=\"sk-toggleable__content\"><pre>StandardScaler()</pre></div></div></div><div class=\"sk-item\"><div class=\"sk-estimator sk-toggleable\"><input class=\"sk-toggleable__control sk-hidden--visually\" id=\"sk-estimator-id-19\" type=\"checkbox\" ><label for=\"sk-estimator-id-19\" class=\"sk-toggleable__label sk-toggleable__label-arrow\">RandomForestRegressor</label><div class=\"sk-toggleable__content\"><pre>RandomForestRegressor(max_depth=50, n_jobs=-1, random_state=77)</pre></div></div></div></div></div></div></div></div></div></div></div></div>"
      ],
      "text/plain": [
       "RandomizedSearchCV(cv=10,\n",
       "                   estimator=Pipeline(steps=[('selectkbest',\n",
       "                                              SelectKBest(k='all')),\n",
       "                                             ('standardscaler',\n",
       "                                              StandardScaler()),\n",
       "                                             ('randomforestregressor',\n",
       "                                              RandomForestRegressor(max_depth=50,\n",
       "                                                                    n_jobs=-1,\n",
       "                                                                    random_state=77))]),\n",
       "                   n_iter=5, n_jobs=-1,\n",
       "                   param_distributions={'selectkbest__k': range(0, 5)})"
      ]
     },
     "execution_count": 77,
     "metadata": {},
     "output_type": "execute_result"
    }
   ],
   "source": [
    "from sklearn.model_selection import RandomizedSearchCV\n",
    "params = {'selectkbest__k': range(5)}\n",
    "rs = RandomizedSearchCV(forestModel, param_distributions = params,\n",
    "                       n_iter=5,\n",
    "                       n_jobs=-1,\n",
    "                       cv=10)\n",
    "rs.fit(X_train, Y_train)"
   ]
  },
  {
   "cell_type": "code",
   "execution_count": 79,
   "id": "def2b4a3",
   "metadata": {},
   "outputs": [
    {
     "name": "stdout",
     "output_type": "stream",
     "text": [
      "Training MAE : 0.03627932659932649\n",
      "Training MAE : 0.10285747474747646\n"
     ]
    }
   ],
   "source": [
    "best_model = rs.best_estimator_\n",
    "print('Training MAE :' , mean_absolute_error(Y_train, best_model.predict(X_train)))\n",
    "print('Training MAE :' , mean_absolute_error(Y_val, best_model.predict(X_val)))\n"
   ]
  },
  {
   "cell_type": "code",
   "execution_count": 80,
   "id": "a97583e4",
   "metadata": {},
   "outputs": [
    {
     "name": "stdout",
     "output_type": "stream",
     "text": [
      "RandomizedSearchCv Best Model Prediction Accuracy : 99.33 %.\n"
     ]
    }
   ],
   "source": [
    "y_pred = best_model.predict(X_val)\n",
    "errors = abs(y_pred - Y_val)\n",
    "mape= 100 * (errors / Y_train)\n",
    "accuracy = 100 - np.mean(mape)\n",
    "print('RandomizedSearchCv Best Model Prediction Accuracy :' , round(accuracy ,2), '%.')\n"
   ]
  },
  {
   "cell_type": "markdown",
   "id": "54037121",
   "metadata": {},
   "source": [
    "# Visualizations"
   ]
  },
  {
   "cell_type": "markdown",
   "id": "433624a4",
   "metadata": {},
   "source": [
    "The goal of pdpbox is to visualize the impact of certain features towards model prediction for any supervised learning algorithm"
   ]
  },
  {
   "cell_type": "code",
   "execution_count": 50,
   "id": "acafd60c",
   "metadata": {},
   "outputs": [
    {
     "data": {
      "text/plain": [
       "(<Figure size 1500x950 with 2 Axes>,\n",
       " {'title_ax': <Axes: >, 'pdp_ax': <Axes: xlabel='LandAverageTemperature'>})"
      ]
     },
     "execution_count": 50,
     "metadata": {},
     "output_type": "execute_result"
    },
    {
     "data": {
      "image/png": "[encoded data removed]",
      "text/plain": [
       "<Figure size 1500x950 with 2 Axes>"
      ]
     },
     "metadata": {},
     "output_type": "display_data"
    }
   ],
   "source": [
    "from pdpbox.pdp import pdp_isolate, pdp_plot\n",
    "feature ='LandAverageTemperature'\n",
    "isolated = pdp_isolate(model = forestModel, \n",
    "                       dataset =X_val, \n",
    "                       model_features=X_val.columns,\n",
    "                       feature = feature)\n",
    "pdp_plot(isolated, feature_name=feature)"
   ]
  },
  {
   "cell_type": "markdown",
   "id": "b8aad1e2",
   "metadata": {},
   "source": [
    "## In This Part I am going to use the Sequence Model To Predict the average global land Temperature"
   ]
  },
  {
   "cell_type": "code",
   "execution_count": 122,
   "id": "017d8952",
   "metadata": {},
   "outputs": [],
   "source": [
    "import tensorflow as tf\n",
    "from keras.models import Sequential\n",
    "from keras.layers import Dense\n",
    "import matplotlib.pyplot as scatter "
   ]
  },
  {
   "cell_type": "code",
   "execution_count": 130,
   "id": "8e6ad873",
   "metadata": {},
   "outputs": [
    {
     "data": {
      "text/plain": [
       "Index(['dt', 'LandAverageTemperature', 'LandAverageTemperatureUncertainty',\n",
       "       'LandMaxTemperature', 'LandMaxTemperatureUncertainty',\n",
       "       'LandMinTemperature', 'LandMinTemperatureUncertainty',\n",
       "       'LandAndOceanAverageTemperature',\n",
       "       'LandAndOceanAverageTemperatureUncertainty'],\n",
       "      dtype='object')"
      ]
     },
     "execution_count": 130,
     "metadata": {},
     "output_type": "execute_result"
    }
   ],
   "source": [
    "gltemp = pd.read_csv(\"GlobalTemperatures.csv\")\n",
    "#Print Dataframe shape\n",
    "gltemp.shape\n",
    "gltemp.columns"
   ]
  },
  {
   "cell_type": "code",
   "execution_count": 131,
   "id": "67bc983c",
   "metadata": {},
   "outputs": [],
   "source": [
    "def DataClean(df):\n",
    "    df = df.copy()\n",
    "    #Cleaning the dataset from unused column\n",
    "    df = df.drop(columns=['LandAverageTemperatureUncertainty','LandMaxTemperatureUncertainty','LandMinTemperatureUncertainty','LandAndOceanAverageTemperatureUncertainty'], axis=1)\n",
    "    #Convert Teamperature Data\n",
    "    df['LandAverageTemperature'] = df['LandAverageTemperature'].apply(convertTemp)\n",
    "    df['LandMaxTemperature']=df ['LandMaxTemperature'].apply(convertTemp)\n",
    "    df['LandMinTemperature']=df ['LandMinTemperature'].apply(convertTemp)\n",
    "    df['LandAndOceanAverageTemperature']=df ['LandAndOceanAverageTemperature'].apply(convertTemp)\n",
    "    \n",
    "    #drop NaN values\n",
    "    df= df.dropna()\n",
    "    return df"
   ]
  },
  {
   "cell_type": "code",
   "execution_count": 132,
   "id": "bf60e020",
   "metadata": {},
   "outputs": [
    {
     "data": {
      "text/html": [
       "<div>\n",
       "<style scoped>\n",
       "    .dataframe tbody tr th:only-of-type {\n",
       "        vertical-align: middle;\n",
       "    }\n",
       "\n",
       "    .dataframe tbody tr th {\n",
       "        vertical-align: top;\n",
       "    }\n",
       "\n",
       "    .dataframe thead th {\n",
       "        text-align: right;\n",
       "    }\n",
       "</style>\n",
       "<table border=\"1\" class=\"dataframe\">\n",
       "  <thead>\n",
       "    <tr style=\"text-align: right;\">\n",
       "      <th></th>\n",
       "      <th>LandAverageTemperature</th>\n",
       "      <th>LandMaxTemperature</th>\n",
       "      <th>LandMinTemperature</th>\n",
       "      <th>LandAndOceanAverageTemperature</th>\n",
       "    </tr>\n",
       "    <tr>\n",
       "      <th>Year</th>\n",
       "      <th></th>\n",
       "      <th></th>\n",
       "      <th></th>\n",
       "      <th></th>\n",
       "    </tr>\n",
       "  </thead>\n",
       "  <tbody>\n",
       "    <tr>\n",
       "      <th>1950</th>\n",
       "      <td>2.008</td>\n",
       "      <td>7.611</td>\n",
       "      <td>-3.622</td>\n",
       "      <td>13.311</td>\n",
       "    </tr>\n",
       "    <tr>\n",
       "      <th>1950</th>\n",
       "      <td>2.721</td>\n",
       "      <td>8.475</td>\n",
       "      <td>-3.013</td>\n",
       "      <td>13.554</td>\n",
       "    </tr>\n",
       "    <tr>\n",
       "      <th>1950</th>\n",
       "      <td>5.247</td>\n",
       "      <td>11.173</td>\n",
       "      <td>-0.693</td>\n",
       "      <td>14.296</td>\n",
       "    </tr>\n",
       "    <tr>\n",
       "      <th>1950</th>\n",
       "      <td>8.123</td>\n",
       "      <td>14.157</td>\n",
       "      <td>2.043</td>\n",
       "      <td>15.093</td>\n",
       "    </tr>\n",
       "    <tr>\n",
       "      <th>1950</th>\n",
       "      <td>11.297</td>\n",
       "      <td>17.252</td>\n",
       "      <td>5.421</td>\n",
       "      <td>16.033</td>\n",
       "    </tr>\n",
       "  </tbody>\n",
       "</table>\n",
       "</div>"
      ],
      "text/plain": [
       "      LandAverageTemperature  LandMaxTemperature  LandMinTemperature  \\\n",
       "Year                                                                   \n",
       "1950                   2.008               7.611              -3.622   \n",
       "1950                   2.721               8.475              -3.013   \n",
       "1950                   5.247              11.173              -0.693   \n",
       "1950                   8.123              14.157               2.043   \n",
       "1950                  11.297              17.252               5.421   \n",
       "\n",
       "      LandAndOceanAverageTemperature  \n",
       "Year                                  \n",
       "1950                          13.311  \n",
       "1950                          13.554  \n",
       "1950                          14.296  \n",
       "1950                          15.093  \n",
       "1950                          16.033  "
      ]
     },
     "execution_count": 132,
     "metadata": {},
     "output_type": "execute_result"
    }
   ],
   "source": [
    "gltemp = DataClean(gltemp)\n",
    "#Print The 5th first Columns to show Modification\n",
    "globaltemp.head()"
   ]
  },
  {
   "cell_type": "code",
   "execution_count": 129,
   "id": "990b51c1",
   "metadata": {},
   "outputs": [
    {
     "name": "stdout",
     "output_type": "stream",
     "text": [
      "<class 'pandas.core.frame.DataFrame'>\n",
      "Int64Index: 792 entries, 1950 to 2015\n",
      "Data columns (total 4 columns):\n",
      " #   Column                          Non-Null Count  Dtype  \n",
      "---  ------                          --------------  -----  \n",
      " 0   LandAverageTemperature          792 non-null    float64\n",
      " 1   LandMaxTemperature              792 non-null    float64\n",
      " 2   LandMinTemperature              792 non-null    float64\n",
      " 3   LandAndOceanAverageTemperature  792 non-null    float64\n",
      "dtypes: float64(4)\n",
      "memory usage: 30.9 KB\n"
     ]
    }
   ],
   "source": [
    "#Identify Anomalies/ Missing Data\n",
    "globaltemp.info()"
   ]
  },
  {
   "cell_type": "code",
   "execution_count": 107,
   "id": "3cc10b64",
   "metadata": {},
   "outputs": [
    {
     "name": "stdout",
     "output_type": "stream",
     "text": [
      "Epoch 1/100\n",
      "19/19 [==============================] - 0s 3ms/step - loss: 0.1161 - accuracy: 0.0000e+00\n",
      "Epoch 2/100\n",
      "19/19 [==============================] - 0s 3ms/step - loss: 0.1160 - accuracy: 0.0000e+00\n",
      "Epoch 3/100\n",
      "19/19 [==============================] - 0s 3ms/step - loss: 0.1156 - accuracy: 0.0000e+00\n",
      "Epoch 4/100\n",
      "19/19 [==============================] - 0s 3ms/step - loss: 0.1155 - accuracy: 0.0000e+00\n",
      "Epoch 5/100\n",
      "19/19 [==============================] - 0s 3ms/step - loss: 0.1152 - accuracy: 0.0000e+00\n",
      "Epoch 6/100\n",
      "19/19 [==============================] - 0s 3ms/step - loss: 0.1155 - accuracy: 0.0000e+00\n",
      "Epoch 7/100\n",
      "19/19 [==============================] - 0s 3ms/step - loss: 0.1149 - accuracy: 0.0000e+00\n",
      "Epoch 8/100\n",
      "19/19 [==============================] - 0s 3ms/step - loss: 0.1150 - accuracy: 0.0000e+00\n",
      "Epoch 9/100\n",
      "19/19 [==============================] - 0s 3ms/step - loss: 0.1147 - accuracy: 0.0000e+00\n",
      "Epoch 10/100\n",
      "19/19 [==============================] - 0s 3ms/step - loss: 0.1147 - accuracy: 0.0000e+00\n",
      "Epoch 11/100\n",
      "19/19 [==============================] - 0s 3ms/step - loss: 0.1152 - accuracy: 0.0000e+00\n",
      "Epoch 12/100\n",
      "19/19 [==============================] - 0s 3ms/step - loss: 0.1158 - accuracy: 0.0000e+00\n",
      "Epoch 13/100\n",
      "19/19 [==============================] - 0s 3ms/step - loss: 0.1156 - accuracy: 0.0000e+00\n",
      "Epoch 14/100\n",
      "19/19 [==============================] - 0s 3ms/step - loss: 0.1152 - accuracy: 0.0000e+00\n",
      "Epoch 15/100\n",
      "19/19 [==============================] - 0s 3ms/step - loss: 0.1144 - accuracy: 0.0000e+00\n",
      "Epoch 16/100\n",
      "19/19 [==============================] - 0s 3ms/step - loss: 0.1143 - accuracy: 0.0000e+00\n",
      "Epoch 17/100\n",
      "19/19 [==============================] - 0s 3ms/step - loss: 0.1143 - accuracy: 0.0000e+00\n",
      "Epoch 18/100\n",
      "19/19 [==============================] - 0s 3ms/step - loss: 0.1150 - accuracy: 0.0000e+00\n",
      "Epoch 19/100\n",
      "19/19 [==============================] - 0s 3ms/step - loss: 0.1144 - accuracy: 0.0000e+00\n",
      "Epoch 20/100\n",
      "19/19 [==============================] - 0s 4ms/step - loss: 0.1139 - accuracy: 0.0000e+00\n",
      "Epoch 21/100\n",
      "19/19 [==============================] - 0s 4ms/step - loss: 0.1139 - accuracy: 0.0000e+00\n",
      "Epoch 22/100\n",
      "19/19 [==============================] - 0s 3ms/step - loss: 0.1158 - accuracy: 0.0000e+00\n",
      "Epoch 23/100\n",
      "19/19 [==============================] - 0s 4ms/step - loss: 0.1144 - accuracy: 0.0000e+00\n",
      "Epoch 24/100\n",
      "19/19 [==============================] - 0s 4ms/step - loss: 0.1138 - accuracy: 0.0000e+00\n",
      "Epoch 25/100\n",
      "19/19 [==============================] - 0s 4ms/step - loss: 0.1138 - accuracy: 0.0000e+00\n",
      "Epoch 26/100\n",
      "19/19 [==============================] - 0s 3ms/step - loss: 0.1143 - accuracy: 0.0000e+00\n",
      "Epoch 27/100\n",
      "19/19 [==============================] - 0s 4ms/step - loss: 0.1140 - accuracy: 0.0000e+00\n",
      "Epoch 28/100\n",
      "19/19 [==============================] - 0s 3ms/step - loss: 0.1133 - accuracy: 0.0000e+00\n",
      "Epoch 29/100\n",
      "19/19 [==============================] - 0s 5ms/step - loss: 0.1135 - accuracy: 0.0000e+00\n",
      "Epoch 30/100\n",
      "19/19 [==============================] - 0s 4ms/step - loss: 0.1131 - accuracy: 0.0000e+00\n",
      "Epoch 31/100\n",
      "19/19 [==============================] - 0s 4ms/step - loss: 0.1134 - accuracy: 0.0000e+00\n",
      "Epoch 32/100\n",
      "19/19 [==============================] - 0s 4ms/step - loss: 0.1132 - accuracy: 0.0000e+00\n",
      "Epoch 33/100\n",
      "19/19 [==============================] - 0s 4ms/step - loss: 0.1128 - accuracy: 0.0000e+00\n",
      "Epoch 34/100\n",
      "19/19 [==============================] - 0s 4ms/step - loss: 0.1130 - accuracy: 0.0000e+00\n",
      "Epoch 35/100\n",
      "19/19 [==============================] - 0s 4ms/step - loss: 0.1136 - accuracy: 0.0000e+00\n",
      "Epoch 36/100\n",
      "19/19 [==============================] - 0s 5ms/step - loss: 0.1124 - accuracy: 0.0000e+00\n",
      "Epoch 37/100\n",
      "19/19 [==============================] - 0s 4ms/step - loss: 0.1125 - accuracy: 0.0000e+00\n",
      "Epoch 38/100\n",
      "19/19 [==============================] - 0s 4ms/step - loss: 0.1133 - accuracy: 0.0000e+00\n",
      "Epoch 39/100\n",
      "19/19 [==============================] - 0s 6ms/step - loss: 0.1125 - accuracy: 0.0000e+00\n",
      "Epoch 40/100\n",
      "19/19 [==============================] - 0s 5ms/step - loss: 0.1139 - accuracy: 0.0000e+00\n",
      "Epoch 41/100\n",
      "19/19 [==============================] - 0s 4ms/step - loss: 0.1128 - accuracy: 0.0000e+00\n",
      "Epoch 42/100\n",
      "19/19 [==============================] - 0s 5ms/step - loss: 0.1125 - accuracy: 0.0000e+00\n",
      "Epoch 43/100\n",
      "19/19 [==============================] - 0s 5ms/step - loss: 0.1122 - accuracy: 0.0000e+00\n",
      "Epoch 44/100\n",
      "19/19 [==============================] - 0s 5ms/step - loss: 0.1127 - accuracy: 0.0000e+00\n",
      "Epoch 45/100\n",
      "19/19 [==============================] - 0s 5ms/step - loss: 0.1126 - accuracy: 0.0000e+00\n",
      "Epoch 46/100\n",
      "19/19 [==============================] - 0s 5ms/step - loss: 0.1128 - accuracy: 0.0000e+00\n",
      "Epoch 47/100\n",
      "19/19 [==============================] - 0s 5ms/step - loss: 0.1125 - accuracy: 0.0000e+00\n",
      "Epoch 48/100\n",
      "19/19 [==============================] - 0s 5ms/step - loss: 0.1119 - accuracy: 0.0000e+00\n",
      "Epoch 49/100\n",
      "19/19 [==============================] - 0s 5ms/step - loss: 0.1126 - accuracy: 0.0000e+00\n",
      "Epoch 50/100\n",
      "19/19 [==============================] - 0s 5ms/step - loss: 0.1117 - accuracy: 0.0000e+00\n",
      "Epoch 51/100\n",
      "19/19 [==============================] - 0s 4ms/step - loss: 0.1126 - accuracy: 0.0000e+00\n",
      "Epoch 52/100\n",
      "19/19 [==============================] - 0s 4ms/step - loss: 0.1115 - accuracy: 0.0000e+00\n",
      "Epoch 53/100\n",
      "19/19 [==============================] - 0s 4ms/step - loss: 0.1120 - accuracy: 0.0000e+00\n",
      "Epoch 54/100\n",
      "19/19 [==============================] - 0s 3ms/step - loss: 0.1125 - accuracy: 0.0000e+00\n",
      "Epoch 55/100\n",
      "19/19 [==============================] - 0s 3ms/step - loss: 0.1113 - accuracy: 0.0000e+00\n",
      "Epoch 56/100\n",
      "19/19 [==============================] - 0s 3ms/step - loss: 0.1111 - accuracy: 0.0000e+00\n",
      "Epoch 57/100\n",
      "19/19 [==============================] - 0s 3ms/step - loss: 0.1113 - accuracy: 0.0000e+00\n",
      "Epoch 58/100\n",
      "19/19 [==============================] - 0s 3ms/step - loss: 0.1109 - accuracy: 0.0000e+00\n",
      "Epoch 59/100\n",
      "19/19 [==============================] - 0s 3ms/step - loss: 0.1132 - accuracy: 0.0000e+00\n",
      "Epoch 60/100\n",
      "19/19 [==============================] - 0s 4ms/step - loss: 0.1121 - accuracy: 0.0000e+00\n",
      "Epoch 61/100\n",
      "19/19 [==============================] - 0s 4ms/step - loss: 0.1123 - accuracy: 0.0000e+00\n",
      "Epoch 62/100\n",
      "19/19 [==============================] - 0s 3ms/step - loss: 0.1120 - accuracy: 0.0000e+00\n",
      "Epoch 63/100\n",
      "19/19 [==============================] - 0s 3ms/step - loss: 0.1118 - accuracy: 0.0000e+00\n",
      "Epoch 64/100\n",
      "19/19 [==============================] - 0s 2ms/step - loss: 0.1131 - accuracy: 0.0000e+00\n",
      "Epoch 65/100\n",
      "19/19 [==============================] - 0s 2ms/step - loss: 0.1129 - accuracy: 0.0000e+00\n",
      "Epoch 66/100\n",
      "19/19 [==============================] - 0s 3ms/step - loss: 0.1132 - accuracy: 0.0000e+00\n",
      "Epoch 67/100\n",
      "19/19 [==============================] - 0s 3ms/step - loss: 0.1117 - accuracy: 0.0000e+00\n",
      "Epoch 68/100\n",
      "19/19 [==============================] - 0s 2ms/step - loss: 0.1120 - accuracy: 0.0000e+00\n",
      "Epoch 69/100\n",
      "19/19 [==============================] - 0s 4ms/step - loss: 0.1111 - accuracy: 0.0000e+00\n",
      "Epoch 70/100\n",
      "19/19 [==============================] - 0s 4ms/step - loss: 0.1122 - accuracy: 0.0000e+00\n",
      "Epoch 71/100\n",
      "19/19 [==============================] - 0s 3ms/step - loss: 0.1112 - accuracy: 0.0000e+00\n",
      "Epoch 72/100\n",
      "19/19 [==============================] - 0s 3ms/step - loss: 0.1119 - accuracy: 0.0000e+00\n",
      "Epoch 73/100\n",
      "19/19 [==============================] - 0s 3ms/step - loss: 0.1107 - accuracy: 0.0000e+00\n",
      "Epoch 74/100\n",
      "19/19 [==============================] - 0s 4ms/step - loss: 0.1104 - accuracy: 0.0000e+00\n",
      "Epoch 75/100\n",
      "19/19 [==============================] - 0s 4ms/step - loss: 0.1104 - accuracy: 0.0000e+00\n",
      "Epoch 76/100\n",
      "19/19 [==============================] - 0s 3ms/step - loss: 0.1117 - accuracy: 0.0000e+00\n",
      "Epoch 77/100\n",
      "19/19 [==============================] - 0s 3ms/step - loss: 0.1108 - accuracy: 0.0000e+00\n",
      "Epoch 78/100\n",
      "19/19 [==============================] - 0s 3ms/step - loss: 0.1110 - accuracy: 0.0000e+00\n",
      "Epoch 79/100\n"
     ]
    },
    {
     "name": "stdout",
     "output_type": "stream",
     "text": [
      "19/19 [==============================] - 0s 3ms/step - loss: 0.1099 - accuracy: 0.0000e+00\n",
      "Epoch 80/100\n",
      "19/19 [==============================] - 0s 3ms/step - loss: 0.1098 - accuracy: 0.0000e+00\n",
      "Epoch 81/100\n",
      "19/19 [==============================] - 0s 3ms/step - loss: 0.1106 - accuracy: 0.0000e+00\n",
      "Epoch 82/100\n",
      "19/19 [==============================] - 0s 3ms/step - loss: 0.1116 - accuracy: 0.0000e+00\n",
      "Epoch 83/100\n",
      "19/19 [==============================] - 0s 3ms/step - loss: 0.1098 - accuracy: 0.0000e+00\n",
      "Epoch 84/100\n",
      "19/19 [==============================] - 0s 4ms/step - loss: 0.1094 - accuracy: 0.0000e+00\n",
      "Epoch 85/100\n",
      "19/19 [==============================] - 0s 3ms/step - loss: 0.1098 - accuracy: 0.0000e+00\n",
      "Epoch 86/100\n",
      "19/19 [==============================] - 0s 3ms/step - loss: 0.1098 - accuracy: 0.0000e+00\n",
      "Epoch 87/100\n",
      "19/19 [==============================] - 0s 3ms/step - loss: 0.1096 - accuracy: 0.0000e+00\n",
      "Epoch 88/100\n",
      "19/19 [==============================] - 0s 3ms/step - loss: 0.1090 - accuracy: 0.0000e+00\n",
      "Epoch 89/100\n",
      "19/19 [==============================] - 0s 3ms/step - loss: 0.1098 - accuracy: 0.0000e+00\n",
      "Epoch 90/100\n",
      "19/19 [==============================] - 0s 3ms/step - loss: 0.1113 - accuracy: 0.0000e+00\n",
      "Epoch 91/100\n",
      "19/19 [==============================] - 0s 3ms/step - loss: 0.1091 - accuracy: 0.0000e+00\n",
      "Epoch 92/100\n",
      "19/19 [==============================] - 0s 3ms/step - loss: 0.1100 - accuracy: 0.0000e+00\n",
      "Epoch 93/100\n",
      "19/19 [==============================] - 0s 3ms/step - loss: 0.1089 - accuracy: 0.0000e+00\n",
      "Epoch 94/100\n",
      "19/19 [==============================] - 0s 3ms/step - loss: 0.1085 - accuracy: 0.0000e+00\n",
      "Epoch 95/100\n",
      "19/19 [==============================] - 0s 3ms/step - loss: 0.1090 - accuracy: 0.0000e+00\n",
      "Epoch 96/100\n",
      "19/19 [==============================] - 0s 5ms/step - loss: 0.1091 - accuracy: 0.0000e+00\n",
      "Epoch 97/100\n",
      "19/19 [==============================] - 0s 3ms/step - loss: 0.1093 - accuracy: 0.0000e+00\n",
      "Epoch 98/100\n",
      "19/19 [==============================] - 0s 3ms/step - loss: 0.1089 - accuracy: 0.0000e+00\n",
      "Epoch 99/100\n",
      "19/19 [==============================] - 0s 3ms/step - loss: 0.1114 - accuracy: 0.0000e+00\n",
      "Epoch 100/100\n",
      "19/19 [==============================] - 0s 3ms/step - loss: 0.1121 - accuracy: 0.0000e+00\n"
     ]
    }
   ],
   "source": [
    "#Model\n",
    "model = Sequential()\n",
    "model.add(Dense(64, input_dim = X_train.shape[1],activation='relu'))\n",
    "model.add(Dense(10))\n",
    "\n",
    "#Compiling the neural network\n",
    "model.compile(loss='mean_squared_error', optimizer='adam', metrics=['accuracy'] )\n",
    "\n",
    "#Fitting the data to the training dataset  \n",
    "model.fit(X_train,Y_train, batch_size=64, epochs=100, verbose=0)\n",
    "\n",
    "#configure the model of training \n",
    "history = model.fit(X_train, Y_train, epochs=100, batch_size=32)"
   ]
  },
  {
   "cell_type": "code",
   "execution_count": 108,
   "id": "e1d71ee3",
   "metadata": {},
   "outputs": [
    {
     "name": "stdout",
     "output_type": "stream",
     "text": [
      "7/7 [==============================] - 0s 3ms/step - loss: 0.1070 - accuracy: 0.0000e+00\n"
     ]
    }
   ],
   "source": [
    "accuracy = model.evaluate(X_val, Y_val)"
   ]
  },
  {
   "cell_type": "code",
   "execution_count": 109,
   "id": "ee0ffbcc",
   "metadata": {},
   "outputs": [
    {
     "name": "stdout",
     "output_type": "stream",
     "text": [
      "Accuracy: {:.2f}% [0.10697154700756073, 0.0]\n"
     ]
    }
   ],
   "source": [
    "print(\"Accuracy: {:.2f}%\",accuracy )"
   ]
  },
  {
   "cell_type": "code",
   "execution_count": 110,
   "id": "07dcbd14",
   "metadata": {},
   "outputs": [
    {
     "name": "stdout",
     "output_type": "stream",
     "text": [
      "7/7 [==============================] - 0s 3ms/step\n"
     ]
    }
   ],
   "source": [
    "prediction = model.predict(X_val)"
   ]
  },
  {
   "cell_type": "code",
   "execution_count": 111,
   "id": "07fb3cab",
   "metadata": {},
   "outputs": [
    {
     "data": {
      "image/png": "[encoded data removed]",
      "text/plain": [
       "<Figure size 640x480 with 1 Axes>"
      ]
     },
     "metadata": {},
     "output_type": "display_data"
    }
   ],
   "source": [
    "# summarize history for accuracy\n",
    "plt.plot(history.history['accuracy'])\n",
    "plt.title('model accuracy')\n",
    "plt.ylabel('accuracy')\n",
    "plt.xlabel('epoch')\n",
    "plt.legend(['train', 'test'], loc='upper left')\n",
    "plt.show()"
   ]
  },
  {
   "cell_type": "code",
   "execution_count": 97,
   "id": "0e1c8e79",
   "metadata": {},
   "outputs": [
    {
     "data": {
      "image/png": "[encoded data removed]",
      "text/plain": [
       "<Figure size 640x480 with 1 Axes>"
      ]
     },
     "metadata": {},
     "output_type": "display_data"
    }
   ],
   "source": [
    "# plot history\n",
    "plt.plot(history.history['loss'], label='train')\n",
    "plt.legend()\n",
    "plt.show()"
   ]
  },
  {
   "cell_type": "code",
   "execution_count": 135,
   "id": "79429b90",
   "metadata": {},
   "outputs": [
    {
     "name": "stdout",
     "output_type": "stream",
     "text": [
      "19/19 [==============================] - 0s 4ms/step\n",
      "7/7 [==============================] - 0s 3ms/step\n"
     ]
    },
    {
     "ename": "NotFittedError",
     "evalue": "This StandardScaler instance is not fitted yet. Call 'fit' with appropriate arguments before using this estimator.",
     "output_type": "error",
     "traceback": [
      "\u001b[1;31m---------------------------------------------------------------------------\u001b[0m",
      "\u001b[1;31mNotFittedError\u001b[0m                            Traceback (most recent call last)",
      "Cell \u001b[1;32mIn[135], line 8\u001b[0m\n\u001b[0;32m      6\u001b[0m testPredict \u001b[38;5;241m=\u001b[39m model\u001b[38;5;241m.\u001b[39mpredict(X_val)\n\u001b[0;32m      7\u001b[0m \u001b[38;5;66;03m# invert predictions\u001b[39;00m\n\u001b[1;32m----> 8\u001b[0m train_Predict \u001b[38;5;241m=\u001b[39m \u001b[43mscaler\u001b[49m\u001b[38;5;241;43m.\u001b[39;49m\u001b[43minverse_transform\u001b[49m\u001b[43m(\u001b[49m\u001b[43mtrainPredict\u001b[49m\u001b[43m)\u001b[49m\n\u001b[0;32m      9\u001b[0m trainY \u001b[38;5;241m=\u001b[39m scaler\u001b[38;5;241m.\u001b[39minverse_transform([Y_train])\n\u001b[0;32m     10\u001b[0m test_Predict \u001b[38;5;241m=\u001b[39m scaler\u001b[38;5;241m.\u001b[39minverse_transform(testPredict)\n",
      "File \u001b[1;32m~\\anaconda3\\envs\\tensorflow\\lib\\site-packages\\sklearn\\preprocessing\\_data.py:1031\u001b[0m, in \u001b[0;36mStandardScaler.inverse_transform\u001b[1;34m(self, X, copy)\u001b[0m\n\u001b[0;32m   1016\u001b[0m \u001b[38;5;28;01mdef\u001b[39;00m \u001b[38;5;21minverse_transform\u001b[39m(\u001b[38;5;28mself\u001b[39m, X, copy\u001b[38;5;241m=\u001b[39m\u001b[38;5;28;01mNone\u001b[39;00m):\n\u001b[0;32m   1017\u001b[0m     \u001b[38;5;124;03m\"\"\"Scale back the data to the original representation.\u001b[39;00m\n\u001b[0;32m   1018\u001b[0m \n\u001b[0;32m   1019\u001b[0m \u001b[38;5;124;03m    Parameters\u001b[39;00m\n\u001b[1;32m   (...)\u001b[0m\n\u001b[0;32m   1029\u001b[0m \u001b[38;5;124;03m        Transformed array.\u001b[39;00m\n\u001b[0;32m   1030\u001b[0m \u001b[38;5;124;03m    \"\"\"\u001b[39;00m\n\u001b[1;32m-> 1031\u001b[0m     \u001b[43mcheck_is_fitted\u001b[49m\u001b[43m(\u001b[49m\u001b[38;5;28;43mself\u001b[39;49m\u001b[43m)\u001b[49m\n\u001b[0;32m   1033\u001b[0m     copy \u001b[38;5;241m=\u001b[39m copy \u001b[38;5;28;01mif\u001b[39;00m copy \u001b[38;5;129;01mis\u001b[39;00m \u001b[38;5;129;01mnot\u001b[39;00m \u001b[38;5;28;01mNone\u001b[39;00m \u001b[38;5;28;01melse\u001b[39;00m \u001b[38;5;28mself\u001b[39m\u001b[38;5;241m.\u001b[39mcopy\n\u001b[0;32m   1034\u001b[0m     X \u001b[38;5;241m=\u001b[39m check_array(\n\u001b[0;32m   1035\u001b[0m         X,\n\u001b[0;32m   1036\u001b[0m         accept_sparse\u001b[38;5;241m=\u001b[39m\u001b[38;5;124m\"\u001b[39m\u001b[38;5;124mcsr\u001b[39m\u001b[38;5;124m\"\u001b[39m,\n\u001b[1;32m   (...)\u001b[0m\n\u001b[0;32m   1039\u001b[0m         force_all_finite\u001b[38;5;241m=\u001b[39m\u001b[38;5;124m\"\u001b[39m\u001b[38;5;124mallow-nan\u001b[39m\u001b[38;5;124m\"\u001b[39m,\n\u001b[0;32m   1040\u001b[0m     )\n",
      "File \u001b[1;32m~\\anaconda3\\envs\\tensorflow\\lib\\site-packages\\sklearn\\utils\\validation.py:1390\u001b[0m, in \u001b[0;36mcheck_is_fitted\u001b[1;34m(estimator, attributes, msg, all_or_any)\u001b[0m\n\u001b[0;32m   1385\u001b[0m     fitted \u001b[38;5;241m=\u001b[39m [\n\u001b[0;32m   1386\u001b[0m         v \u001b[38;5;28;01mfor\u001b[39;00m v \u001b[38;5;129;01min\u001b[39;00m \u001b[38;5;28mvars\u001b[39m(estimator) \u001b[38;5;28;01mif\u001b[39;00m v\u001b[38;5;241m.\u001b[39mendswith(\u001b[38;5;124m\"\u001b[39m\u001b[38;5;124m_\u001b[39m\u001b[38;5;124m\"\u001b[39m) \u001b[38;5;129;01mand\u001b[39;00m \u001b[38;5;129;01mnot\u001b[39;00m v\u001b[38;5;241m.\u001b[39mstartswith(\u001b[38;5;124m\"\u001b[39m\u001b[38;5;124m__\u001b[39m\u001b[38;5;124m\"\u001b[39m)\n\u001b[0;32m   1387\u001b[0m     ]\n\u001b[0;32m   1389\u001b[0m \u001b[38;5;28;01mif\u001b[39;00m \u001b[38;5;129;01mnot\u001b[39;00m fitted:\n\u001b[1;32m-> 1390\u001b[0m     \u001b[38;5;28;01mraise\u001b[39;00m NotFittedError(msg \u001b[38;5;241m%\u001b[39m {\u001b[38;5;124m\"\u001b[39m\u001b[38;5;124mname\u001b[39m\u001b[38;5;124m\"\u001b[39m: \u001b[38;5;28mtype\u001b[39m(estimator)\u001b[38;5;241m.\u001b[39m\u001b[38;5;18m__name__\u001b[39m})\n",
      "\u001b[1;31mNotFittedError\u001b[0m: This StandardScaler instance is not fitted yet. Call 'fit' with appropriate arguments before using this estimator."
     ]
    }
   ],
   "source": [
    "from sklearn.preprocessing import StandardScaler \n",
    "\n",
    "scaler = StandardScaler()\n",
    "# make predictions\n",
    "trainPredict = model.predict(X_train)\n",
    "testPredict = model.predict(X_val)\n",
    "# invert predictions\n",
    "train_Predict = scaler.inverse_transform(trainPredict)\n",
    "trainY = scaler.inverse_transform([Y_train])\n",
    "test_Predict = scaler.inverse_transform(testPredict)\n",
    "testY = scaler.inverse_transform([Y_val])\n",
    "# calculate root mean squared error\n",
    "trainScore = np.sqrt(mean_squared_error(Y_train[0], train_Predict[:,0]))\n",
    "print('Train Score: %.2f RMSE' % (trainScore))\n",
    "testScore = np.sqrt(mean_squared_error(Y_val[0], test_Predict[:,0]))\n",
    "print('Test Score: %.2f RMSE' % (testScore))"
   ]
  },
  {
   "cell_type": "code",
   "execution_count": null,
   "id": "1272ff29",
   "metadata": {},
   "outputs": [],
   "source": []
  }
 ],
 "metadata": {
  "kernelspec": {
   "display_name": "Python 3 (ipykernel)",
   "language": "python",
   "name": "python3"
  },
  "language_info": {
   "codemirror_mode": {
    "name": "ipython",
    "version": 3
   },
   "file_extension": ".py",
   "mimetype": "text/x-python",
   "name": "python",
   "nbconvert_exporter": "python",
   "pygments_lexer": "ipython3",
   "version": "3.10.9"
  }
 },
 "nbformat": 4,
 "nbformat_minor": 5
}
